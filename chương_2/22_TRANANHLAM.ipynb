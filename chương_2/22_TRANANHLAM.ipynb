{
 "cells": [
  {
   "cell_type": "code",
   "execution_count": 2,
   "metadata": {},
   "outputs": [],
   "source": [
    "import pandas as pd\n",
    "import sqlite3"
   ]
  },
  {
   "cell_type": "markdown",
   "metadata": {},
   "source": [
    "# Tạo bảng Student và course : \n"
   ]
  },
  {
   "cell_type": "code",
   "execution_count": 3,
   "metadata": {},
   "outputs": [],
   "source": [
    "# Kết nối đến tệp database : \n",
    "conn = sqlite3.connect(\"student_course.db\")\n",
    "cursor = conn.cursor()"
   ]
  },
  {
   "cell_type": "code",
   "execution_count": 4,
   "metadata": {},
   "outputs": [
    {
     "name": "stdout",
     "output_type": "stream",
     "text": [
      "Dữ liệu đã được khởi tạo thành công!\n"
     ]
    }
   ],
   "source": [
    "# Tạo bảng student\n",
    "cursor.execute('''\n",
    "    CREATE TABLE student (\n",
    "        student_id INTEGER PRIMARY KEY,\n",
    "        name Varchar(50),\n",
    "        class VARCHAR(50),\n",
    "        course_id INTEGER,\n",
    "        score FLOAT\n",
    "    )\n",
    "''')\n",
    "\n",
    "# Chèn dữ liệu vào bảng student\n",
    "students = [\n",
    "    (1, 'Nguyen Minh Hoang', 'May Tinh', 12, 6.7),\n",
    "    (2, 'Tran Thi Lan', 'Kinh Te', 34, 9.2),\n",
    "    (3, 'Pham Van Nam', 'Toan Tin', None, 7.9),\n",
    "    (4, 'Le Thanh Huyen', 'Toan Tin', 20, 7.2),\n",
    "    (5, 'Vu Quoc Anh', 'May Tinh', 24, 8.0),\n",
    "    (6, 'Dang Thuy Linh', 'May Tinh', 24, 5.5),\n",
    "    (7, 'Bui Tien Dung', 'Kinh Te', 34, 9.2),\n",
    "    (8, 'Ho Ngoc Mai', 'Toan Tin', 20, 8.8),\n",
    "    (9, 'Duong Huu Phuc', 'Kinh Te', None, 7.2),\n",
    "    (10, 'Cao Thi Hanh', 'May Tinh', None, 7.0)\n",
    "]\n",
    "cursor.executemany(\"INSERT INTO student VALUES (?, ?, ?, ?, ?)\", students)\n",
    "\n",
    "# Tạo bảng course\n",
    "cursor.execute('''\n",
    "    CREATE TABLE course (\n",
    "        id INTEGER PRIMARY KEY,\n",
    "        course_name VARCHAR(50)\n",
    "    )\n",
    "''')\n",
    "\n",
    "# Chèn dữ liệu vào bảng course\n",
    "courses = [\n",
    "    (12, 'Giai tich'),\n",
    "    (34, 'Thong ke'),\n",
    "    (26, 'Tin hoc')\n",
    "]\n",
    "cursor.executemany(\"INSERT INTO course VALUES (?, ?)\", courses)\n",
    "\n",
    "# Lưu thay đổi\n",
    "conn.commit()\n",
    "print(\"Dữ liệu đã được khởi tạo thành công!\")\n",
    "\n"
   ]
  },
  {
   "cell_type": "markdown",
   "metadata": {},
   "source": [
    "1. Hãy kết nối hai bảng trên theo những cách sau:\n",
    "- Sử dụng tích Decartes.\n",
    "- Sử dụng JOIN: INNER JOIN, LEFT JOIN, RIGHT JOIN, FULL OUTER JOIN"
   ]
  },
  {
   "cell_type": "code",
   "execution_count": 5,
   "metadata": {},
   "outputs": [
    {
     "name": "stdout",
     "output_type": "stream",
     "text": [
      "\n",
      "Tích Descartes:\n"
     ]
    },
    {
     "data": {
      "text/plain": [
       "[(1, 'Nguyen Minh Hoang', 'May Tinh', 12, 6.7, 12, 'Giai tich'),\n",
       " (1, 'Nguyen Minh Hoang', 'May Tinh', 12, 6.7, 26, 'Tin hoc'),\n",
       " (1, 'Nguyen Minh Hoang', 'May Tinh', 12, 6.7, 34, 'Thong ke'),\n",
       " (2, 'Tran Thi Lan', 'Kinh Te', 34, 9.2, 12, 'Giai tich'),\n",
       " (2, 'Tran Thi Lan', 'Kinh Te', 34, 9.2, 26, 'Tin hoc'),\n",
       " (2, 'Tran Thi Lan', 'Kinh Te', 34, 9.2, 34, 'Thong ke'),\n",
       " (3, 'Pham Van Nam', 'Toan Tin', None, 7.9, 12, 'Giai tich'),\n",
       " (3, 'Pham Van Nam', 'Toan Tin', None, 7.9, 26, 'Tin hoc'),\n",
       " (3, 'Pham Van Nam', 'Toan Tin', None, 7.9, 34, 'Thong ke'),\n",
       " (4, 'Le Thanh Huyen', 'Toan Tin', 20, 7.2, 12, 'Giai tich'),\n",
       " (4, 'Le Thanh Huyen', 'Toan Tin', 20, 7.2, 26, 'Tin hoc'),\n",
       " (4, 'Le Thanh Huyen', 'Toan Tin', 20, 7.2, 34, 'Thong ke'),\n",
       " (5, 'Vu Quoc Anh', 'May Tinh', 24, 8.0, 12, 'Giai tich'),\n",
       " (5, 'Vu Quoc Anh', 'May Tinh', 24, 8.0, 26, 'Tin hoc'),\n",
       " (5, 'Vu Quoc Anh', 'May Tinh', 24, 8.0, 34, 'Thong ke'),\n",
       " (6, 'Dang Thuy Linh', 'May Tinh', 24, 5.5, 12, 'Giai tich'),\n",
       " (6, 'Dang Thuy Linh', 'May Tinh', 24, 5.5, 26, 'Tin hoc'),\n",
       " (6, 'Dang Thuy Linh', 'May Tinh', 24, 5.5, 34, 'Thong ke'),\n",
       " (7, 'Bui Tien Dung', 'Kinh Te', 34, 9.2, 12, 'Giai tich'),\n",
       " (7, 'Bui Tien Dung', 'Kinh Te', 34, 9.2, 26, 'Tin hoc'),\n",
       " (7, 'Bui Tien Dung', 'Kinh Te', 34, 9.2, 34, 'Thong ke'),\n",
       " (8, 'Ho Ngoc Mai', 'Toan Tin', 20, 8.8, 12, 'Giai tich'),\n",
       " (8, 'Ho Ngoc Mai', 'Toan Tin', 20, 8.8, 26, 'Tin hoc'),\n",
       " (8, 'Ho Ngoc Mai', 'Toan Tin', 20, 8.8, 34, 'Thong ke'),\n",
       " (9, 'Duong Huu Phuc', 'Kinh Te', None, 7.2, 12, 'Giai tich'),\n",
       " (9, 'Duong Huu Phuc', 'Kinh Te', None, 7.2, 26, 'Tin hoc'),\n",
       " (9, 'Duong Huu Phuc', 'Kinh Te', None, 7.2, 34, 'Thong ke'),\n",
       " (10, 'Cao Thi Hanh', 'May Tinh', None, 7.0, 12, 'Giai tich'),\n",
       " (10, 'Cao Thi Hanh', 'May Tinh', None, 7.0, 26, 'Tin hoc'),\n",
       " (10, 'Cao Thi Hanh', 'May Tinh', None, 7.0, 34, 'Thong ke')]"
      ]
     },
     "execution_count": 5,
     "metadata": {},
     "output_type": "execute_result"
    }
   ],
   "source": [
    "#Sử dụng tích Descartes \n",
    "cursor.execute('''\n",
    "    SELECT * FROM student,course\n",
    "''')\n",
    "print(\"\\nTích Descartes:\")\n",
    "cursor.fetchall()"
   ]
  },
  {
   "cell_type": "markdown",
   "metadata": {},
   "source": [
    "* Sử dụng JOIN : "
   ]
  },
  {
   "cell_type": "code",
   "execution_count": 6,
   "metadata": {},
   "outputs": [
    {
     "name": "stdout",
     "output_type": "stream",
     "text": [
      "\n",
      "INNER JOIN:\n"
     ]
    },
    {
     "data": {
      "text/plain": [
       "[(1, 'Nguyen Minh Hoang', 'May Tinh', 12, 6.7, 12, 'Giai tich'),\n",
       " (2, 'Tran Thi Lan', 'Kinh Te', 34, 9.2, 34, 'Thong ke'),\n",
       " (7, 'Bui Tien Dung', 'Kinh Te', 34, 9.2, 34, 'Thong ke')]"
      ]
     },
     "execution_count": 6,
     "metadata": {},
     "output_type": "execute_result"
    }
   ],
   "source": [
    "# INNER JOIN\n",
    "cursor.execute('''\n",
    "    SELECT *\n",
    "    FROM student JOIN course ON student.course_id = course.id\n",
    "''')\n",
    "print(\"\\nINNER JOIN:\")\n",
    "cursor.fetchall()\n",
    "\n"
   ]
  },
  {
   "cell_type": "code",
   "execution_count": 7,
   "metadata": {},
   "outputs": [
    {
     "name": "stdout",
     "output_type": "stream",
     "text": [
      "\n",
      "LEFT JOIN:\n"
     ]
    },
    {
     "data": {
      "text/plain": [
       "[(1, 'Nguyen Minh Hoang', 'May Tinh', 12, 6.7, 12, 'Giai tich'),\n",
       " (2, 'Tran Thi Lan', 'Kinh Te', 34, 9.2, 34, 'Thong ke'),\n",
       " (3, 'Pham Van Nam', 'Toan Tin', None, 7.9, None, None),\n",
       " (4, 'Le Thanh Huyen', 'Toan Tin', 20, 7.2, None, None),\n",
       " (5, 'Vu Quoc Anh', 'May Tinh', 24, 8.0, None, None),\n",
       " (6, 'Dang Thuy Linh', 'May Tinh', 24, 5.5, None, None),\n",
       " (7, 'Bui Tien Dung', 'Kinh Te', 34, 9.2, 34, 'Thong ke'),\n",
       " (8, 'Ho Ngoc Mai', 'Toan Tin', 20, 8.8, None, None),\n",
       " (9, 'Duong Huu Phuc', 'Kinh Te', None, 7.2, None, None),\n",
       " (10, 'Cao Thi Hanh', 'May Tinh', None, 7.0, None, None)]"
      ]
     },
     "execution_count": 7,
     "metadata": {},
     "output_type": "execute_result"
    }
   ],
   "source": [
    "# LEFT JOIN\n",
    "cursor.execute('''\n",
    "    SELECT *\n",
    "    FROM student LEFT JOIN course ON student.course_id = course.id\n",
    "''')\n",
    "print(\"\\nLEFT JOIN:\")\n",
    "cursor.fetchall()\n"
   ]
  },
  {
   "cell_type": "code",
   "execution_count": 8,
   "metadata": {},
   "outputs": [
    {
     "name": "stdout",
     "output_type": "stream",
     "text": [
      "\n",
      "RIGHT JOIN:\n"
     ]
    },
    {
     "data": {
      "text/plain": [
       "[(1, 'Nguyen Minh Hoang', 'May Tinh', 12, 6.7, 12, 'Giai tich'),\n",
       " (2, 'Tran Thi Lan', 'Kinh Te', 34, 9.2, 34, 'Thong ke'),\n",
       " (7, 'Bui Tien Dung', 'Kinh Te', 34, 9.2, 34, 'Thong ke'),\n",
       " (None, None, None, None, None, 26, 'Tin hoc')]"
      ]
     },
     "execution_count": 8,
     "metadata": {},
     "output_type": "execute_result"
    }
   ],
   "source": [
    "# RIGHT JOIN \n",
    "cursor.execute('''\n",
    "    SELECT *\n",
    "    FROM student RIGHT JOIN course ON student.course_id = course.id\n",
    "''')\n",
    "print(\"\\nRIGHT JOIN:\")\n",
    "cursor.fetchall()"
   ]
  },
  {
   "cell_type": "code",
   "execution_count": 9,
   "metadata": {},
   "outputs": [
    {
     "name": "stdout",
     "output_type": "stream",
     "text": [
      "\n",
      "FULL OUTER JOIN:\n"
     ]
    },
    {
     "data": {
      "text/plain": [
       "[(1, 'Nguyen Minh Hoang', 'May Tinh', 12, 6.7, 12, 'Giai tich'),\n",
       " (2, 'Tran Thi Lan', 'Kinh Te', 34, 9.2, 34, 'Thong ke'),\n",
       " (3, 'Pham Van Nam', 'Toan Tin', None, 7.9, None, None),\n",
       " (4, 'Le Thanh Huyen', 'Toan Tin', 20, 7.2, None, None),\n",
       " (5, 'Vu Quoc Anh', 'May Tinh', 24, 8.0, None, None),\n",
       " (6, 'Dang Thuy Linh', 'May Tinh', 24, 5.5, None, None),\n",
       " (7, 'Bui Tien Dung', 'Kinh Te', 34, 9.2, 34, 'Thong ke'),\n",
       " (8, 'Ho Ngoc Mai', 'Toan Tin', 20, 8.8, None, None),\n",
       " (9, 'Duong Huu Phuc', 'Kinh Te', None, 7.2, None, None),\n",
       " (10, 'Cao Thi Hanh', 'May Tinh', None, 7.0, None, None),\n",
       " (None, None, None, None, None, 26, 'Tin hoc')]"
      ]
     },
     "execution_count": 9,
     "metadata": {},
     "output_type": "execute_result"
    }
   ],
   "source": [
    "# FULL OUTER JOIN \n",
    "cursor.execute('''\n",
    "    SELECT *\n",
    "    FROM student \n",
    "    FULL OUTER JOIN course ON student.course_id = course.id\n",
    "\n",
    "''')\n",
    "print(\"\\nFULL OUTER JOIN:\")\n",
    "cursor.fetchall()\n"
   ]
  },
  {
   "cell_type": "markdown",
   "metadata": {},
   "source": [
    "2. Hãy cập nhật những giá trị course_id còn thiếu trong bảng student bằng câu lệnh SQL, trong đó các giá trị được điền là những giá trị nằm trong bảng course và loại bỏ những bản ghi tham gia những môn học không tồn tại bảng course. Sau đó hãy cho biết:\n",
    "\n",
    "a. Tổng số sinh viên, điểm trung bình của từng lớp.\n",
    "\n",
    "b. Tổng số sinh viên, điểm trung bình của từng môn học.\n",
    "\n",
    "c. Phân loại thi đua theo số điểm của từng môn học biết:\n",
    "i. Điểm TB ≥ 9.0: Xuất sắc.\n",
    "ii. 6.0 ≤ Điểm TB ≤ 8.9: Tốt.\n",
    "iii. Điểm TB < 6.0: Kém."
   ]
  },
  {
   "cell_type": "code",
   "execution_count": 10,
   "metadata": {},
   "outputs": [
    {
     "name": "stdout",
     "output_type": "stream",
     "text": [
      "\n",
      "Dữ liệu sau khi cập nhật course_id:\n",
      "   student_id               name     class  course_id  score\n",
      "0           1  Nguyen Minh Hoang  May Tinh         12    6.7\n",
      "1           2       Tran Thi Lan   Kinh Te         34    9.2\n",
      "2           3       Pham Van Nam  Toan Tin         12    7.9\n",
      "3           4     Le Thanh Huyen  Toan Tin         20    7.2\n",
      "4           5        Vu Quoc Anh  May Tinh         24    8.0\n",
      "5           6     Dang Thuy Linh  May Tinh         24    5.5\n",
      "6           7      Bui Tien Dung   Kinh Te         34    9.2\n",
      "7           8        Ho Ngoc Mai  Toan Tin         20    8.8\n",
      "8           9     Duong Huu Phuc   Kinh Te         12    7.2\n",
      "9          10       Cao Thi Hanh  May Tinh         12    7.0\n"
     ]
    }
   ],
   "source": [
    "# Cập nhật course_id còn thiếu bằng cách lấy một giá trị hợp lệ từ bảng course\n",
    "cursor.execute('''\n",
    "    UPDATE student\n",
    "    SET course_id = (SELECT id FROM course ORDER BY RANDOM() LIMIT 1)\n",
    "    WHERE student_id IN (SELECT student_id FROM student WHERE course_id IS NULL ORDER BY RANDOM());\n",
    "''')\n",
    "conn.commit()\n",
    "# Hiển thị dữ liệu sau khi cập nhật\n",
    "cursor.execute(\"SELECT * FROM student\")\n",
    "print(\"\\nDữ liệu sau khi cập nhật course_id:\")\n",
    "df_updated = pd.DataFrame(cursor.fetchall(), columns=['student_id', 'name', 'class', 'course_id', 'score'])\n",
    "print(df_updated)"
   ]
  },
  {
   "cell_type": "code",
   "execution_count": 11,
   "metadata": {},
   "outputs": [
    {
     "name": "stdout",
     "output_type": "stream",
     "text": [
      "\n",
      "Dữ liệu sau khi xóa các bản ghi không hợp lệ:\n",
      "   student_id               name     class  course_id  score\n",
      "0           1  Nguyen Minh Hoang  May Tinh         12    6.7\n",
      "1           2       Tran Thi Lan   Kinh Te         34    9.2\n",
      "2           3       Pham Van Nam  Toan Tin         12    7.9\n",
      "3           7      Bui Tien Dung   Kinh Te         34    9.2\n",
      "4           9     Duong Huu Phuc   Kinh Te         12    7.2\n",
      "5          10       Cao Thi Hanh  May Tinh         12    7.0\n"
     ]
    }
   ],
   "source": [
    "# Xóa các bản ghi có course_id không tồn tại trong bảng course\n",
    "cursor.execute('''\n",
    "    DELETE FROM student\n",
    "    WHERE course_id NOT IN (SELECT id FROM course)\n",
    "''')\n",
    "conn.commit()\n",
    "\n",
    "# Hiển thị dữ liệu sau khi xóa\n",
    "cursor.execute(\"SELECT * FROM student\")\n",
    "print(\"\\nDữ liệu sau khi xóa các bản ghi không hợp lệ:\")\n",
    "df_cleaned = pd.DataFrame(cursor.fetchall(), columns=['student_id', 'name', 'class', 'course_id', 'score'])\n",
    "print(df_cleaned)"
   ]
  },
  {
   "cell_type": "code",
   "execution_count": 12,
   "metadata": {},
   "outputs": [
    {
     "name": "stdout",
     "output_type": "stream",
     "text": [
      "\n",
      "Tổng số sinh viên và điểm trung bình theo lớp:\n",
      "      class  total_students  avg_score\n",
      "0   Kinh Te               3   8.533333\n",
      "1  May Tinh               2   6.850000\n",
      "2  Toan Tin               1   7.900000\n"
     ]
    }
   ],
   "source": [
    "#a. Tính tổng số sinh viên và điểm trung bình theo lớp học\n",
    "cursor.execute('''\n",
    "    SELECT class, COUNT(*) AS total_students, AVG(score) AS avg_score\n",
    "    FROM student\n",
    "    GROUP BY class\n",
    "''')\n",
    "print(\"\\nTổng số sinh viên và điểm trung bình theo lớp:\")\n",
    "df_class_stats = pd.DataFrame(cursor.fetchall(), columns=['class', 'total_students', 'avg_score'])\n",
    "print(df_class_stats)\n"
   ]
  },
  {
   "cell_type": "code",
   "execution_count": 13,
   "metadata": {},
   "outputs": [
    {
     "name": "stdout",
     "output_type": "stream",
     "text": [
      "\n",
      "Tổng số sinh viên và điểm trung bình theo môn học:\n",
      "  course_name  total_students  avg_score\n",
      "0   Giai tich               4        7.2\n",
      "1    Thong ke               2        9.2\n"
     ]
    }
   ],
   "source": [
    "#b. Tính tổng số sinh viên và điểm trung bình theo môn học\n",
    "cursor.execute('''\n",
    "    SELECT course.course_name, COUNT(student.student_id) AS total_students, AVG(student.score) AS avg_score\n",
    "    FROM student\n",
    "    JOIN course ON student.course_id = course.id\n",
    "    GROUP BY course.course_name\n",
    "''')\n",
    "print(\"\\nTổng số sinh viên và điểm trung bình theo môn học:\")\n",
    "df_course_stats = pd.DataFrame(cursor.fetchall(), columns=['course_name', 'total_students', 'avg_score'])\n",
    "print(df_course_stats)"
   ]
  },
  {
   "cell_type": "code",
   "execution_count": 14,
   "metadata": {},
   "outputs": [
    {
     "name": "stdout",
     "output_type": "stream",
     "text": [
      "\n",
      "Phân loại thi đua theo điểm trung bình của môn học:\n",
      "  course_name classification\n",
      "0   Giai tich            Tốt\n",
      "1    Thong ke       Xuất sắc\n"
     ]
    }
   ],
   "source": [
    "#c. Phân loại thi đua theo điểm trung bình của môn học \n",
    "cursor.execute('''\n",
    "    SELECT course.course_name, \n",
    "           CASE \n",
    "               WHEN AVG(student.score) >= 9.0 THEN 'Xuất sắc'\n",
    "               WHEN AVG(student.score) BETWEEN 6.0 AND 8.9 THEN 'Tốt'\n",
    "               ELSE 'Kém'\n",
    "           END AS classification\n",
    "    FROM student\n",
    "    JOIN course ON student.course_id = course.id\n",
    "    GROUP BY course.course_name\n",
    "''')\n",
    "print(\"\\nPhân loại thi đua theo điểm trung bình của môn học:\")\n",
    "df_ranking = pd.DataFrame(cursor.fetchall(), columns=['course_name', 'classification'])\n",
    "print(df_ranking)\n"
   ]
  },
  {
   "cell_type": "markdown",
   "metadata": {},
   "source": [
    "3. Hãy xếp hạng sinh viên thông qua:\n",
    "\n",
    "a. Điểm số.\n",
    "\n",
    "b. Điểm số theo lớp học.\n",
    "\n",
    "c. Điểm số theo mã môn học."
   ]
  },
  {
   "cell_type": "code",
   "execution_count": 15,
   "metadata": {},
   "outputs": [
    {
     "name": "stdout",
     "output_type": "stream",
     "text": [
      "   student_id               name  score  rank_overall\n",
      "0           2       Tran Thi Lan    9.2             1\n",
      "1           7      Bui Tien Dung    9.2             1\n",
      "2           3       Pham Van Nam    7.9             3\n",
      "3           9     Duong Huu Phuc    7.2             4\n",
      "4          10       Cao Thi Hanh    7.0             5\n",
      "5           1  Nguyen Minh Hoang    6.7             6\n"
     ]
    }
   ],
   "source": [
    "#Xếp hạng sinh viên theo điểm số : Sử dụng hàm RANK() OVER() để xếp hạng sinh viên theo điểm số, lớp học, và mã môn học.\n",
    "\n",
    "cursor.execute('''\n",
    "    SELECT student_id, name, score, \n",
    "           RANK() OVER (ORDER BY score DESC) as rank_overall\n",
    "    FROM student\n",
    "''')\n",
    "df_rank_overall = pd.DataFrame(cursor.fetchall(), columns=['student_id', 'name', 'score', 'rank_overall'])\n",
    "print(df_rank_overall)"
   ]
  },
  {
   "cell_type": "code",
   "execution_count": 16,
   "metadata": {},
   "outputs": [
    {
     "name": "stdout",
     "output_type": "stream",
     "text": [
      "\n",
      "Top 3 sinh viên có điểm cao nhất:\n",
      "   student_id           name  score\n",
      "0           2   Tran Thi Lan    9.2\n",
      "1           7  Bui Tien Dung    9.2\n",
      "2           3   Pham Van Nam    7.9\n",
      "\n",
      "Top 3 sinh viên có điểm thấp nhất:\n",
      "   student_id               name  score\n",
      "0           1  Nguyen Minh Hoang    6.7\n",
      "1          10       Cao Thi Hanh    7.0\n",
      "2           9     Duong Huu Phuc    7.2\n"
     ]
    }
   ],
   "source": [
    "# Top 3 cao nhất/thấp nhất \n",
    "cursor.execute('''\n",
    "    SELECT student_id, name, score\n",
    "    FROM (\n",
    "        SELECT student_id, name, score, RANK() OVER (ORDER BY score DESC) as rank_score\n",
    "        FROM student\n",
    "    )\n",
    "    WHERE rank_score <= 3\n",
    "''')\n",
    "top3_score = pd.DataFrame(cursor.fetchall(), columns=['student_id', 'name', 'score'])\n",
    "\n",
    "cursor.execute('''\n",
    "    SELECT student_id, name, score\n",
    "    FROM (\n",
    "        SELECT student_id, name, score, RANK() OVER (ORDER BY score ASC) as rank_score\n",
    "        FROM student\n",
    "    )\n",
    "    WHERE rank_score <= 3\n",
    "''')\n",
    "bottom3_score = pd.DataFrame(cursor.fetchall(), columns=['student_id', 'name', 'score'])\n",
    "\n",
    "print(\"\\nTop 3 sinh viên có điểm cao nhất:\")\n",
    "print(top3_score)\n",
    "print(\"\\nTop 3 sinh viên có điểm thấp nhất:\")\n",
    "print(bottom3_score)"
   ]
  },
  {
   "cell_type": "code",
   "execution_count": 17,
   "metadata": {},
   "outputs": [
    {
     "name": "stdout",
     "output_type": "stream",
     "text": [
      "\n",
      "Xếp hạng theo điểm số trong lớp học:\n",
      "   student_id               name     class  score  rank_class\n",
      "0           2       Tran Thi Lan   Kinh Te    9.2           1\n",
      "1           7      Bui Tien Dung   Kinh Te    9.2           1\n",
      "2           9     Duong Huu Phuc   Kinh Te    7.2           3\n",
      "3          10       Cao Thi Hanh  May Tinh    7.0           1\n",
      "4           1  Nguyen Minh Hoang  May Tinh    6.7           2\n",
      "5           3       Pham Van Nam  Toan Tin    7.9           1\n"
     ]
    }
   ],
   "source": [
    "# b. Điểm số theo lớp học : \n",
    "\n",
    "cursor.execute('''\n",
    "    SELECT student_id, name, class, score, RANK() OVER (PARTITION BY class ORDER BY score DESC) as rank_class\n",
    "    FROM student\n",
    "''')\n",
    "df_rank_class = pd.DataFrame(cursor.fetchall(), columns=['student_id', 'name', 'class', 'score', 'rank_class'])\n",
    "\n",
    "print(\"\\nXếp hạng theo điểm số trong lớp học:\")\n",
    "print(df_rank_class)"
   ]
  },
  {
   "cell_type": "code",
   "execution_count": 18,
   "metadata": {},
   "outputs": [
    {
     "name": "stdout",
     "output_type": "stream",
     "text": [
      "\n",
      "Top 3 sinh viên có điểm cao nhất trong mỗi lớp:\n",
      "   student_id               name     class  score\n",
      "0           2       Tran Thi Lan   Kinh Te    9.2\n",
      "1           7      Bui Tien Dung   Kinh Te    9.2\n",
      "2           9     Duong Huu Phuc   Kinh Te    7.2\n",
      "3          10       Cao Thi Hanh  May Tinh    7.0\n",
      "4           1  Nguyen Minh Hoang  May Tinh    6.7\n",
      "5           3       Pham Van Nam  Toan Tin    7.9\n",
      "\n",
      "Top 3 sinh viên có điểm thấp nhất trong mỗi lớp:\n",
      "   student_id               name     class  score\n",
      "0           9     Duong Huu Phuc   Kinh Te    7.2\n",
      "1           2       Tran Thi Lan   Kinh Te    9.2\n",
      "2           7      Bui Tien Dung   Kinh Te    9.2\n",
      "3           1  Nguyen Minh Hoang  May Tinh    6.7\n",
      "4          10       Cao Thi Hanh  May Tinh    7.0\n",
      "5           3       Pham Van Nam  Toan Tin    7.9\n"
     ]
    }
   ],
   "source": [
    "cursor.execute('''\n",
    "    SELECT student_id, name, class, score\n",
    "    FROM (\n",
    "        SELECT student_id, name, class, score, RANK() OVER (PARTITION BY class ORDER BY score DESC) as rank_class\n",
    "        FROM student\n",
    "    )\n",
    "    WHERE rank_class <= 3\n",
    "''')\n",
    "top3_class = pd.DataFrame(cursor.fetchall(), columns=['student_id', 'name', 'class', 'score'])\n",
    "\n",
    "cursor.execute('''\n",
    "    SELECT student_id, name, class, score\n",
    "    FROM (\n",
    "        SELECT student_id, name, class, score, RANK() OVER (PARTITION BY class ORDER BY score ASC) as rank_class\n",
    "        FROM student\n",
    "    )\n",
    "    WHERE rank_class <= 3\n",
    "''')\n",
    "bottom3_class = pd.DataFrame(cursor.fetchall(), columns=['student_id', 'name', 'class', 'score'])\n",
    "\n",
    "print(\"\\nTop 3 sinh viên có điểm cao nhất trong mỗi lớp:\")\n",
    "print(top3_class)\n",
    "print(\"\\nTop 3 sinh viên có điểm thấp nhất trong mỗi lớp:\")\n",
    "print(bottom3_class)"
   ]
  },
  {
   "cell_type": "code",
   "execution_count": 19,
   "metadata": {},
   "outputs": [
    {
     "name": "stdout",
     "output_type": "stream",
     "text": [
      "\n",
      "Xếp hạng theo điểm số trong mã môn học:\n",
      "   student_id               name  course_id  score  rank_course\n",
      "0           3       Pham Van Nam         12    7.9            1\n",
      "1           9     Duong Huu Phuc         12    7.2            2\n",
      "2          10       Cao Thi Hanh         12    7.0            3\n",
      "3           1  Nguyen Minh Hoang         12    6.7            4\n",
      "4           2       Tran Thi Lan         34    9.2            1\n",
      "5           7      Bui Tien Dung         34    9.2            1\n"
     ]
    }
   ],
   "source": [
    "#3. Điểm số theo mã môn học\n",
    "cursor.execute('''\n",
    "    SELECT student_id, name, course_id, score, RANK() OVER (PARTITION BY course_id ORDER BY score DESC) as rank_course\n",
    "    FROM student\n",
    "''')\n",
    "df_rank_course = pd.DataFrame(cursor.fetchall(), columns=['student_id', 'name', 'course_id', 'score', 'rank_course'])\n",
    "\n",
    "print(\"\\nXếp hạng theo điểm số trong mã môn học:\")\n",
    "print(df_rank_course)"
   ]
  },
  {
   "cell_type": "code",
   "execution_count": 20,
   "metadata": {},
   "outputs": [
    {
     "name": "stdout",
     "output_type": "stream",
     "text": [
      "\n",
      "Top 3 sinh viên có điểm cao nhất theo mã môn học:\n",
      "   student_id            name  course_id  score\n",
      "0           3    Pham Van Nam         12    7.9\n",
      "1           9  Duong Huu Phuc         12    7.2\n",
      "2          10    Cao Thi Hanh         12    7.0\n",
      "3           2    Tran Thi Lan         34    9.2\n",
      "4           7   Bui Tien Dung         34    9.2\n",
      "\n",
      "Top 3 sinh viên có điểm thấp nhất theo mã môn học:\n",
      "   student_id               name  course_id  score\n",
      "0           1  Nguyen Minh Hoang         12    6.7\n",
      "1          10       Cao Thi Hanh         12    7.0\n",
      "2           9     Duong Huu Phuc         12    7.2\n",
      "3           2       Tran Thi Lan         34    9.2\n",
      "4           7      Bui Tien Dung         34    9.2\n"
     ]
    }
   ],
   "source": [
    "cursor.execute('''\n",
    "    SELECT student_id, name, course_id, score\n",
    "    FROM (\n",
    "        SELECT student_id, name, course_id, score, RANK() OVER (PARTITION BY course_id ORDER BY score DESC) as rank_class\n",
    "        FROM student\n",
    "    )\n",
    "    WHERE rank_class <= 3\n",
    "''')\n",
    "top3_course_id = pd.DataFrame(cursor.fetchall(), columns=['student_id', 'name', 'course_id', 'score'])\n",
    "\n",
    "cursor.execute('''\n",
    "    SELECT student_id, name,course_id, score\n",
    "    FROM (\n",
    "        SELECT student_id, name, course_id, score, RANK() OVER (PARTITION BY course_id ORDER BY score ASC) as rank_class\n",
    "        FROM student\n",
    "    )\n",
    "    WHERE rank_class <= 3\n",
    "''')\n",
    "bottom3_course_id = pd.DataFrame(cursor.fetchall(), columns=['student_id', 'name', 'course_id', 'score'])\n",
    "\n",
    "print(\"\\nTop 3 sinh viên có điểm cao nhất theo mã môn học:\")\n",
    "print(top3_course_id)\n",
    "print(\"\\nTop 3 sinh viên có điểm thấp nhất theo mã môn học:\")\n",
    "print(bottom3_course_id)"
   ]
  },
  {
   "cell_type": "markdown",
   "metadata": {},
   "source": [
    "# 4. Bổ sung thêm một trường graduation_date có kiểu dữ liệu là DATETIME vào bảng student để xác định thời gian tốt nghiệp của từng bạn, trong đó thời gian tốt nghiệp được xác định bởi thời gian hiện tại cộng với số hạng tương ứng của bạn đó tính theo điểm số."
   ]
  },
  {
   "cell_type": "code",
   "execution_count": 4,
   "metadata": {},
   "outputs": [
    {
     "name": "stdout",
     "output_type": "stream",
     "text": [
      "(1, 'Nguyen Minh Hoang', 'May Tinh', 12, 6.7, '2025-03-20 14:48:32')\n",
      "(2, 'Tran Thi Lan', 'Kinh Te', 34, 9.2, '2025-03-15 14:48:32')\n",
      "(3, 'Pham Van Nam', 'Toan Tin', 12, 7.9, '2025-03-17 14:48:32')\n",
      "(7, 'Bui Tien Dung', 'Kinh Te', 34, 9.2, '2025-03-15 14:48:32')\n",
      "(9, 'Duong Huu Phuc', 'Kinh Te', 12, 7.2, '2025-03-18 14:48:32')\n",
      "(10, 'Cao Thi Hanh', 'May Tinh', 12, 7.0, '2025-03-19 14:48:32')\n"
     ]
    }
   ],
   "source": [
    "# Kết nối đến database\n",
    "conn = sqlite3.connect(\"student_course.db\") \n",
    "cursor = conn.cursor()\n",
    "\n",
    "# Cập nhật graduation_date dựa trên thứ hạng điểm số\n",
    "cursor.execute('''\n",
    "    WITH ranked_students AS (\n",
    "        SELECT student_id, RANK() OVER (ORDER BY score DESC) AS rank_score\n",
    "        FROM student\n",
    "    )\n",
    "    UPDATE student\n",
    "    SET graduation_date = datetime('now', '+' || (SELECT rank_score FROM ranked_students WHERE ranked_students.student_id = student.student_id) || ' days')\n",
    "''')\n",
    "\n",
    "# Xác nhận thay đổi\n",
    "conn.commit()\n",
    "\n",
    "# Kiểm tra kết quả\n",
    "cursor.execute(\"SELECT * FROM student\")\n",
    "students = cursor.fetchall()\n",
    "\n",
    "# Đóng kết nối\n",
    "conn.close()\n",
    "\n",
    "# In kết quả để kiểm tra\n",
    "for student in students:\n",
    "    print(student)\n"
   ]
  }
 ],
 "metadata": {
  "kernelspec": {
   "display_name": "base",
   "language": "python",
   "name": "python3"
  },
  "language_info": {
   "codemirror_mode": {
    "name": "ipython",
    "version": 3
   },
   "file_extension": ".py",
   "mimetype": "text/x-python",
   "name": "python",
   "nbconvert_exporter": "python",
   "pygments_lexer": "ipython3",
   "version": "3.12.7"
  }
 },
 "nbformat": 4,
 "nbformat_minor": 2
}
